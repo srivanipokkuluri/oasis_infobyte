{
  "cells": [
    {
      "cell_type": "markdown",
      "metadata": {
        "id": "98VQY6NyDQqy"
      },
      "source": [
        "# Project Title: BMI Calculator"
      ]
    },
    {
      "cell_type": "code",
      "execution_count": 2,
      "metadata": {
        "id": "iLfqY4t6Dcuq",
        "colab": {
          "base_uri": "https://localhost:8080/"
        },
        "outputId": "21d18eaf-880c-4a15-9a03-cc10017343a8"
      },
      "outputs": [
        {
          "output_type": "stream",
          "name": "stdout",
          "text": [
            "Enter your weight in kilograms: 59\n",
            "Enter your height in meters: 1.54\n",
            "Your BMI is: 24.88\n",
            "Your BMI category is: Normal weight\n"
          ]
        }
      ],
      "source": [
        "def calculate_bmi(weight, height):\n",
        "    bmi = weight / (height ** 2)\n",
        "    return bmi\n",
        "\n",
        "def classify_bmi(bmi):\n",
        "    if bmi < 18.5:\n",
        "        return \"Underweight\"\n",
        "    elif 18.5 <= bmi < 24.9:\n",
        "        return \"Normal weight\"\n",
        "    elif 25 <= bmi < 29.9:\n",
        "        return \"Overweight\"\n",
        "    else:\n",
        "        return \"Obesity\"\n",
        "\n",
        "def main():\n",
        "    try:\n",
        "        weight = float(input(\"Enter your weight in kilograms: \"))\n",
        "        height = float(input(\"Enter your height in meters: \"))\n",
        "\n",
        "        bmi = calculate_bmi(weight, height)\n",
        "        category = classify_bmi(bmi)\n",
        "\n",
        "        print(f\"Your BMI is: {bmi:.2f}\")\n",
        "        print(f\"Your BMI category is: {category}\")\n",
        "\n",
        "    except ValueError:\n",
        "        print(\"Invalid input. Please enter numerical values for weight and height.\")\n",
        "\n",
        "if __name__ == \"__main__\":\n",
        "    main()\n"
      ]
    },
    {
      "cell_type": "markdown",
      "metadata": {
        "id": "R9W6HOx85dkG"
      },
      "source": [
        "#  Project Title: Simple Password Generator"
      ]
    },
    {
      "cell_type": "code",
      "execution_count": 3,
      "metadata": {
        "colab": {
          "base_uri": "https://localhost:8080/"
        },
        "id": "R48_lRCU5oq3",
        "outputId": "f98a87f9-0352-4a4b-e88b-8e9abf4d10a3"
      },
      "outputs": [
        {
          "output_type": "stream",
          "name": "stdout",
          "text": [
            "Welcome to Password Generator\n",
            "Enter the desired length of the password: 15\n",
            "Generated Password: n9CXC%d5)WCPxgR\n"
          ]
        }
      ],
      "source": [
        "import random\n",
        "import string\n",
        "\n",
        "def generate_password(length):\n",
        "    characters = string.ascii_letters + string.digits + string.punctuation\n",
        "    password = ''.join(random.choice(characters) for _ in range(length))\n",
        "    return password\n",
        "\n",
        "def main():\n",
        "    print(\"Welcome to Password Generator\")\n",
        "    while True:\n",
        "        try:\n",
        "            length = int(input(\"Enter the desired length of the password: \"))\n",
        "            if length <= 0:\n",
        "                raise ValueError\n",
        "            break\n",
        "        except ValueError:\n",
        "            print(\"Please enter a valid positive integer for the password length.\")\n",
        "\n",
        "    password = generate_password(length)\n",
        "    print(\"Generated Password:\", password)\n",
        "\n",
        "if __name__ == \"__main__\":\n",
        "    main()"
      ]
    },
    {
      "cell_type": "markdown",
      "metadata": {
        "id": "iaOf99-aFmzX"
      },
      "source": [
        "# Project Idea: Weather App with JavaScript"
      ]
    },
    {
      "cell_type": "code",
      "execution_count": 4,
      "metadata": {
        "colab": {
          "base_uri": "https://localhost:8080/"
        },
        "id": "yB6zKZEuFqTK",
        "outputId": "2850a81f-9343-46f2-9616-444c8b9c84f3"
      },
      "outputs": [
        {
          "output_type": "stream",
          "name": "stdout",
          "text": [
            "Enter city name: vizag\n",
            "+------------------------+------------------+\n",
            "|       Attribute        |      Value       |\n",
            "+------------------------+------------------+\n",
            "|          Time          | 2024-06-20T13:45 |\n",
            "|    Temperature (°C)    |       30.3       |\n",
            "| Relative Humidity (%)  |       N/A        |\n",
            "| Surface Pressure (hPa) |       N/A        |\n",
            "|    Wind Speed (m/s)    |       8.7        |\n",
            "+------------------------+------------------+\n"
          ]
        }
      ],
      "source": [
        "import requests\n",
        "from geopy.geocoders import Nominatim\n",
        "from prettytable import PrettyTable\n",
        "\n",
        "def fetch_forecast(latitude, longitude):\n",
        "    try:\n",
        "        response = requests.get(f\"https://api.open-meteo.com/v1/forecast?latitude={latitude}&longitude={longitude}&current_weather=true&hourly=temperature_2m,relative_humidity_2m,apparent_temperature,is_day,precipitation,rain,showers,snowfall,weather_code,cloud_cover,pressure_msl,surface_pressure,wind_speed_10m,wind_direction_10m,wind_gusts_10m\")\n",
        "        response.raise_for_status()  # Check if the request was successful\n",
        "        data = response.json()\n",
        "        return data\n",
        "    except requests.exceptions.RequestException as e:\n",
        "        print(f\"Error fetching weather forecast data: {e}\")\n",
        "        return None\n",
        "\n",
        "def get_coordinates(city_name):\n",
        "    try:\n",
        "        geolocator = Nominatim(user_agent=\"weather_app\")\n",
        "        location = geolocator.geocode(city_name)\n",
        "        if location:\n",
        "            return location.latitude, location.longitude\n",
        "        else:\n",
        "            print(\"Location not found.\")\n",
        "            return None, None\n",
        "    except Exception as e:\n",
        "        print(f\"Error fetching coordinates: {e}\")\n",
        "        return None, None\n",
        "\n",
        "def main():\n",
        "    city_name = input(\"Enter city name: \")\n",
        "    latitude, longitude = get_coordinates(city_name)\n",
        "    if latitude is not None and longitude is not None:\n",
        "        forecast_data = fetch_forecast(latitude, longitude)\n",
        "        if forecast_data and 'current_weather' in forecast_data:\n",
        "            current_weather = forecast_data['current_weather']\n",
        "            table = PrettyTable()\n",
        "            table.field_names = [\"Attribute\", \"Value\"]\n",
        "            table.add_row([\"Time\", current_weather.get('time', 'N/A')])\n",
        "            table.add_row([\"Temperature (°C)\", current_weather.get('temperature', 'N/A')])\n",
        "            table.add_row([\"Relative Humidity (%)\", current_weather.get('relative_humidity', 'N/A')])\n",
        "            table.add_row([\"Surface Pressure (hPa)\", current_weather.get('surface_pressure', 'N/A')])\n",
        "            table.add_row([\"Wind Speed (m/s)\", current_weather.get('windspeed', 'N/A')])\n",
        "            print(table)\n",
        "        else:\n",
        "            print(\"Failed to fetch weather forecast data.\")\n",
        "    else:\n",
        "        print(\"Failed to retrieve coordinates for the specified city.\")\n",
        "\n",
        "if __name__ == \"__main__\":\n",
        "    main()"
      ]
    }
  ],
  "metadata": {
    "colab": {
      "toc_visible": true,
      "provenance": []
    },
    "kernelspec": {
      "display_name": "Python 3",
      "name": "python3"
    },
    "language_info": {
      "name": "python"
    }
  },
  "nbformat": 4,
  "nbformat_minor": 0
}